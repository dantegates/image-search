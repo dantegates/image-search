{
 "cells": [
  {
   "cell_type": "markdown",
   "metadata": {
    "slideshow": {
     "slide_type": "slide"
    }
   },
   "source": [
    "# Image search with autoencoders"
   ]
  },
  {
   "cell_type": "markdown",
   "metadata": {
    "slideshow": {
     "slide_type": "slide"
    }
   },
   "source": [
    "Autoencoders are an architecture that have a variety of applications from [denoising data](http://www.jmlr.org/papers/volume11/vincent10a/vincent10a.pdf) to [generative models](https://arxiv.org/1312.6114.pdf).\n",
    "\n",
    "In this post we will look at how to search for images using autoencoders. The two papers that guide this post are [Semantic Hashing](http://www.cs.utoronto.ca/~rsalakhu/papers/semantic_final.pdf) and [Using Very Deep Autoencoders for Content-Based Image Retrieval](http://www.cs.toronto.edu/~fritz/absps/esann-deep-final.pdf)."
   ]
  },
  {
   "cell_type": "markdown",
   "metadata": {},
   "source": [
    "# Autoencoders, the gist"
   ]
  },
  {
   "cell_type": "markdown",
   "metadata": {},
   "source": [
    "The autoencoders considered in this post are simply neural networks that learn the mapping $f:X\\mapsto X$. Sounds too easy doesn't it? And why would we want to learn to predict the data we already have?\n",
    "\n",
    "The key idea behind the architecture of an autoencoder is that a \"bottleneck\" is placed in the middle of the network. This implicitly forces the network to learn a compressed representation of the input data, which is what we are actually interested in.\n",
    "\n",
    "More specifically we actually think of the autoencoder as two pieces, the _encoder_ which is the first half of the network mapping $X\\in \\mathbb{R}^{n}$ to some vector in $\\mathbb{R}^{d}$ and the _decoder_ which maps that vector back to $\\mathbb{R}^{n}$. The vector output by the encoder is called the _latent representation_ of the data which is what we will use in our image search. Again, at the end of the day all we really care about is the output of the bottleneck.\n",
    "\n",
    "This picture below should clear up any ambiguity"
   ]
  },
  {
   "cell_type": "markdown",
   "metadata": {},
   "source": [
    "<img src=\"./static/autoencoder-architecture.png\">"
   ]
  },
  {
   "cell_type": "markdown",
   "metadata": {},
   "source": [
    "One really nice thing about autoencoders is that the idea described above is very intuitive. Suppose our data $X$ lives in $\\mathbb{R}^{n}$ and one of the hidden layers of $f$ outputs a vector of dimmension $d<n$. Then, intuitively it makes sense that if $f$ reconstructs $X$ well after reducing the input in dimmensionality then the output of that hidden layer must contain a lot of information about $X$ in order to reproduce $X$."
   ]
  },
  {
   "cell_type": "markdown",
   "metadata": {},
   "source": [
    "# Autoencoders for searching"
   ]
  },
  {
   "cell_type": "markdown",
   "metadata": {},
   "source": [
    "So how do we apply autoencoders to searching?\n",
    "\n",
    "Let's consider the use case where we have a set of images $X$, and for a given image $q$ we would like to retrieve all images in $X$ that are \"similar\" to $q$.\n",
    "\n",
    "One such way to do this with an autoencoder is to keep a list of key-value pairs of each image $x\\in X$ and its encoded representation $\\hat{x}$. Recall these codes are simply vectors, so we can compute similarity scores of $\\hat{q}$ and each $\\hat{x}$, returning the images which scored highest. This is already more efficient than simply computing the similarity scores on the raw values in $X$ in the sense that the encoded representations are much smaller in dimmension. However, both methods are linear searches with time complexity $O(|X|)$, that is the more images we have in our database, the longer the search will take and the less benefit we see in performance from computing the similarity scores on smaller vectors.\n",
    "\n",
    "It turns out we can still use the codes to perform a faster search in constant time, we just need to add one extra step. We now define the encoder as $\\phi:\\mathbb{R}^{n}\\mapsto\\{0,1\\}^{d}$ ($d$-bit binary codes). Once again we keep a list of key-value pairs, but this time the key is a $d$-bit integer rather than a real valued vector of dimmension $d$. Then for our query image $q$ we now return all images $x\\in X$ such that the hamming distince (number of bits that differ) of $\\phi(q)$ and $\\phi(x)$ is less than some predetermined threshold $t$."
   ]
  },
  {
   "cell_type": "markdown",
   "metadata": {},
   "source": [
    "# A few remarks on building and training the autoencoder"
   ]
  },
  {
   "cell_type": "markdown",
   "metadata": {},
   "source": [
    "## Learning binary codes"
   ]
  },
  {
   "cell_type": "markdown",
   "metadata": {},
   "source": [
    "You may be asking how does one constrain the neural network to learn binary codes. It turns out this is actually rather simple. Several techniques, such as adding gaussian noise to the mini-batches, for doing this are discussed in [Semantic Hashing](http://www.cs.utoronto.ca/~rsalakhu/papers/semantic_final.pdf) however the simplest method, described in [here](http://www.cs.toronto.edu/~fritz/absps/esann-deep-final.pdf), is to feed the outputs of the hidden layer which outputs the latent vector into a softmax, round those values up to 1 or down to 0 and then compute the gradient update as if the rounding never occurred.\n",
    "\n",
    "We can do this in keras with a custom layer using `keras.backend.round()` and `keras.backend.stop_gradient()` as follows."
   ]
  },
  {
   "cell_type": "markdown",
   "metadata": {},
   "source": [
    "```python\n",
    "import keras\n",
    "from keras.layers import Lambda\n",
    "def binarize(x):\n",
    "    return x + K.stop_gradient(K.round(x) - x)\n",
    "Binarize = Lambda(binarize, output_shape=lambda x: x, name='encoding')\n",
    "```"
   ]
  },
  {
   "cell_type": "markdown",
   "metadata": {},
   "source": [
    "## Overfitting on the data"
   ]
  },
  {
   "cell_type": "markdown",
   "metadata": {},
   "source": [
    "Depending on the use case it may be perfectly acceptable to train on the same data we intend to search over."
   ]
  },
  {
   "cell_type": "markdown",
   "metadata": {},
   "source": [
    "## Choosing the latent dimmension and threshold"
   ]
  },
  {
   "cell_type": "markdown",
   "metadata": {},
   "source": [
    "Let's consider the MNIST digits data set as an example of working out a heuristic for choosing the latent dimmension and threshold since that's what we'll be working with below. In the train split provided by keras there are $60,000$ images. If the number of possible binary codes output by the autoencoder is $2^d=N$, then we will have approximately $60,000/N$ images stored per code (assuming the images are distributed uniformly across the codes). In the papers referenced in the beginning of this post the author's found good results when there were about 0.4 items per code so we'll choose $d=17$ which gives us a total of $N=131072$ codes and approximately $0.46$ images per code.\n",
    "\n",
    "Now, lets choose our threshold as $t=3$, then we have"
   ]
  },
  {
   "cell_type": "code",
   "execution_count": 1,
   "metadata": {
    "scrolled": true,
    "slideshow": {
     "slide_type": "fragment"
    }
   },
   "outputs": [
    {
     "name": "stderr",
     "output_type": "stream",
     "text": [
      "/Users/dgates/venvs/py3/lib/python3.6/site-packages/h5py/__init__.py:36: FutureWarning: Conversion of the second argument of issubdtype from `float` to `np.floating` is deprecated. In future, it will be treated as `np.float64 == np.dtype(float).type`.\n",
      "  from ._conv import register_converters as _register_converters\n",
      "Using TensorFlow backend.\n"
     ]
    },
    {
     "data": {
      "image/png": "[encoded data removed]",
      "text/plain": [
       "<matplotlib.figure.Figure at 0x105412198>"
      ]
     },
     "metadata": {},
     "output_type": "display_data"
    }
   ],
   "source": [
    "from utils import *\n",
    "X_train, _ = fetch_data()\n",
    "X_train.shape"
   ]
  },
  {
   "cell_type": "markdown",
   "metadata": {
    "slideshow": {
     "slide_type": "slide"
    }
   },
   "source": [
    "# Training an autoencoder"
   ]
  },
  {
   "cell_type": "code",
   "execution_count": 3,
   "metadata": {
    "slideshow": {
     "slide_type": "fragment"
    }
   },
   "outputs": [],
   "source": [
    "from autoencoding import AutoEncoder\n",
    "INPUT_DIM = X_train.shape[-1]\n",
    "LATENT_DIM = 17\n",
    "INTERMEDIATE_DIMS = [1000, 700, 300,  150, 75]\n",
    "OUTPUT_ACTIVATION = 'sigmoid'\n",
    "EPOCHS = 125\n",
    "BATCH_SIZE = 256"
   ]
  },
  {
   "cell_type": "code",
   "execution_count": 4,
   "metadata": {
    "scrolled": true,
    "slideshow": {
     "slide_type": "fragment"
    }
   },
   "outputs": [
    {
     "name": "stdout",
     "output_type": "stream",
     "text": [
      "_________________________________________________________________\n",
      "Layer (type)                 Output Shape              Param #   \n",
      "=================================================================\n",
      "input_1 (InputLayer)         (None, 784)               0         \n",
      "_________________________________________________________________\n",
      "dense_1 (Dense)              (None, 1000)              785000    \n",
      "_________________________________________________________________\n",
      "dense_2 (Dense)              (None, 700)               700700    \n",
      "_________________________________________________________________\n",
      "dense_3 (Dense)              (None, 300)               210300    \n",
      "_________________________________________________________________\n",
      "dense_4 (Dense)              (None, 150)               45150     \n",
      "_________________________________________________________________\n",
      "dense_5 (Dense)              (None, 75)                11325     \n",
      "_________________________________________________________________\n",
      "dense_6 (Dense)              (None, 17)                1292      \n",
      "_________________________________________________________________\n",
      "encoding (Lambda)            (None, 17)                0         \n",
      "_________________________________________________________________\n",
      "dense_7 (Dense)              (None, 75)                1350      \n",
      "_________________________________________________________________\n",
      "dense_8 (Dense)              (None, 150)               11400     \n",
      "_________________________________________________________________\n",
      "dense_9 (Dense)              (None, 300)               45300     \n",
      "_________________________________________________________________\n",
      "dense_10 (Dense)             (None, 700)               210700    \n",
      "_________________________________________________________________\n",
      "dense_11 (Dense)             (None, 1000)              701000    \n",
      "_________________________________________________________________\n",
      "dense_12 (Dense)             (None, 784)               784784    \n",
      "=================================================================\n",
      "Total params: 3,508,301\n",
      "Trainable params: 3,508,301\n",
      "Non-trainable params: 0\n",
      "_________________________________________________________________\n"
     ]
    }
   ],
   "source": [
    "autoencoder = AutoEncoder(\n",
    "    INPUT_DIM,\n",
    "    LATENT_DIM,\n",
    "    INTERMEDIATE_DIMS,\n",
    "    OUTPUT_ACTIVATION)\n",
    "autoencoder.summary()"
   ]
  },
  {
   "cell_type": "code",
   "execution_count": 5,
   "metadata": {},
   "outputs": [],
   "source": [
    "autoencoder.compile(loss='binary_crossentropy', optimizer='adadelta')"
   ]
  },
  {
   "cell_type": "code",
   "execution_count": 6,
   "metadata": {
    "scrolled": true,
    "slideshow": {
     "slide_type": "fragment"
    }
   },
   "outputs": [
    {
     "name": "stdout",
     "output_type": "stream",
     "text": [
      "Epoch 1/250\n",
      "60000/60000 [==============================] - 42s 694us/step - loss: 0.3013\n",
      "Epoch 2/250\n",
      "60000/60000 [==============================] - 40s 660us/step - loss: 0.2532\n",
      "Epoch 3/250\n",
      "60000/60000 [==============================] - 39s 649us/step - loss: 0.2506\n",
      "Epoch 4/250\n",
      "60000/60000 [==============================] - 36s 592us/step - loss: 0.2461\n",
      "Epoch 5/250\n",
      "60000/60000 [==============================] - 35s 589us/step - loss: 0.2423\n",
      "Epoch 6/250\n",
      "60000/60000 [==============================] - 38s 640us/step - loss: 0.2388\n",
      "Epoch 7/250\n",
      "60000/60000 [==============================] - 35s 582us/step - loss: 0.2357\n",
      "Epoch 8/250\n",
      "60000/60000 [==============================] - 35s 583us/step - loss: 0.2310\n",
      "Epoch 9/250\n",
      "60000/60000 [==============================] - 35s 576us/step - loss: 0.2256\n",
      "Epoch 10/250\n",
      "60000/60000 [==============================] - 38s 636us/step - loss: 0.2209\n",
      "Epoch 11/250\n",
      "60000/60000 [==============================] - 41s 678us/step - loss: 0.2162\n",
      "Epoch 12/250\n",
      "60000/60000 [==============================] - 40s 674us/step - loss: 0.2122\n",
      "Epoch 13/250\n",
      "60000/60000 [==============================] - 37s 622us/step - loss: 0.2083\n",
      "Epoch 14/250\n",
      "60000/60000 [==============================] - 38s 628us/step - loss: 0.2042\n",
      "Epoch 15/250\n",
      "60000/60000 [==============================] - 37s 609us/step - loss: 0.2006\n",
      "Epoch 16/250\n",
      "60000/60000 [==============================] - 36s 608us/step - loss: 0.1977\n",
      "Epoch 17/250\n",
      "60000/60000 [==============================] - 37s 616us/step - loss: 0.1946\n",
      "Epoch 18/250\n",
      "60000/60000 [==============================] - 39s 649us/step - loss: 0.1922\n",
      "Epoch 19/250\n",
      "60000/60000 [==============================] - 38s 638us/step - loss: 0.1904\n",
      "Epoch 20/250\n",
      "60000/60000 [==============================] - 37s 612us/step - loss: 0.1884\n",
      "Epoch 21/250\n",
      "60000/60000 [==============================] - 44s 726us/step - loss: 0.1869\n",
      "Epoch 22/250\n",
      "60000/60000 [==============================] - 39s 643us/step - loss: 0.1851\n",
      "Epoch 23/250\n",
      "60000/60000 [==============================] - 40s 666us/step - loss: 0.1838\n",
      "Epoch 24/250\n",
      "60000/60000 [==============================] - 37s 617us/step - loss: 0.1820\n",
      "Epoch 25/250\n",
      "60000/60000 [==============================] - 37s 616us/step - loss: 0.1809\n",
      "Epoch 26/250\n",
      "60000/60000 [==============================] - 38s 630us/step - loss: 0.1795\n",
      "Epoch 27/250\n",
      "60000/60000 [==============================] - 39s 656us/step - loss: 0.1784\n",
      "Epoch 28/250\n",
      "60000/60000 [==============================] - 38s 632us/step - loss: 0.1768\n",
      "Epoch 29/250\n",
      "60000/60000 [==============================] - 39s 652us/step - loss: 0.1758\n",
      "Epoch 30/250\n",
      "60000/60000 [==============================] - 40s 666us/step - loss: 0.1744\n",
      "Epoch 31/250\n",
      "60000/60000 [==============================] - 37s 619us/step - loss: 0.1734\n",
      "Epoch 32/250\n",
      "60000/60000 [==============================] - 36s 593us/step - loss: 0.1721\n",
      "Epoch 33/250\n",
      "60000/60000 [==============================] - 36s 600us/step - loss: 0.1715\n",
      "Epoch 34/250\n",
      "60000/60000 [==============================] - 35s 590us/step - loss: 0.1708\n",
      "Epoch 35/250\n",
      "60000/60000 [==============================] - 35s 583us/step - loss: 0.1697\n",
      "Epoch 36/250\n",
      "60000/60000 [==============================] - 35s 585us/step - loss: 0.1692\n",
      "Epoch 37/250\n",
      "60000/60000 [==============================] - 35s 580us/step - loss: 0.1687\n",
      "Epoch 38/250\n",
      "60000/60000 [==============================] - 35s 576us/step - loss: 0.1681\n",
      "Epoch 39/250\n",
      "60000/60000 [==============================] - 35s 580us/step - loss: 0.1676\n",
      "Epoch 40/250\n",
      "60000/60000 [==============================] - 39s 643us/step - loss: 0.1671\n",
      "Epoch 41/250\n",
      "60000/60000 [==============================] - 37s 611us/step - loss: 0.1668\n",
      "Epoch 42/250\n",
      "60000/60000 [==============================] - 35s 585us/step - loss: 0.1663\n",
      "Epoch 43/250\n",
      "60000/60000 [==============================] - 35s 587us/step - loss: 0.1659\n",
      "Epoch 44/250\n",
      "60000/60000 [==============================] - 35s 580us/step - loss: 0.1655\n",
      "Epoch 45/250\n",
      "60000/60000 [==============================] - 36s 604us/step - loss: 0.1652\n",
      "Epoch 46/250\n",
      "60000/60000 [==============================] - 37s 609us/step - loss: 0.1649\n",
      "Epoch 47/250\n",
      "60000/60000 [==============================] - 37s 612us/step - loss: 0.1649\n",
      "Epoch 48/250\n",
      "60000/60000 [==============================] - 35s 580us/step - loss: 0.1641\n",
      "Epoch 49/250\n",
      "60000/60000 [==============================] - 35s 577us/step - loss: 0.1640\n",
      "Epoch 50/250\n",
      "60000/60000 [==============================] - 35s 582us/step - loss: 0.1636\n",
      "Epoch 51/250\n",
      "60000/60000 [==============================] - 35s 578us/step - loss: 0.1633\n",
      "Epoch 52/250\n",
      "60000/60000 [==============================] - 35s 581us/step - loss: 0.1630\n",
      "Epoch 53/250\n",
      "60000/60000 [==============================] - 35s 580us/step - loss: 0.1630\n",
      "Epoch 54/250\n",
      "60000/60000 [==============================] - 35s 581us/step - loss: 0.1628\n",
      "Epoch 55/250\n",
      "60000/60000 [==============================] - 35s 578us/step - loss: 0.1624\n",
      "Epoch 56/250\n",
      "60000/60000 [==============================] - 35s 577us/step - loss: 0.1622\n",
      "Epoch 57/250\n",
      "60000/60000 [==============================] - 35s 585us/step - loss: 0.1621\n",
      "Epoch 58/250\n",
      "60000/60000 [==============================] - 35s 578us/step - loss: 0.1618\n",
      "Epoch 59/250\n",
      "60000/60000 [==============================] - 35s 577us/step - loss: 0.1616\n",
      "Epoch 60/250\n",
      "60000/60000 [==============================] - 35s 582us/step - loss: 0.1613\n",
      "Epoch 61/250\n",
      "60000/60000 [==============================] - 35s 579us/step - loss: 0.1610\n",
      "Epoch 62/250\n",
      "60000/60000 [==============================] - 35s 579us/step - loss: 0.1609\n",
      "Epoch 63/250\n",
      "60000/60000 [==============================] - 35s 582us/step - loss: 0.1607\n",
      "Epoch 64/250\n",
      "60000/60000 [==============================] - 36s 592us/step - loss: 0.1606\n",
      "Epoch 65/250\n",
      "60000/60000 [==============================] - 35s 583us/step - loss: 0.1602\n",
      "Epoch 66/250\n",
      "60000/60000 [==============================] - 35s 582us/step - loss: 0.1600\n",
      "Epoch 67/250\n",
      "60000/60000 [==============================] - 35s 579us/step - loss: 0.1598\n",
      "Epoch 68/250\n",
      "60000/60000 [==============================] - 35s 580us/step - loss: 0.1596\n",
      "Epoch 69/250\n",
      "60000/60000 [==============================] - 35s 578us/step - loss: 0.1591\n",
      "Epoch 70/250\n",
      "60000/60000 [==============================] - 35s 579us/step - loss: 0.1588\n",
      "Epoch 71/250\n",
      "60000/60000 [==============================] - 35s 583us/step - loss: 0.1587\n",
      "Epoch 72/250\n",
      "60000/60000 [==============================] - 35s 580us/step - loss: 0.1585\n",
      "Epoch 73/250\n",
      "60000/60000 [==============================] - 35s 577us/step - loss: 0.1581\n",
      "Epoch 74/250\n",
      "60000/60000 [==============================] - 35s 581us/step - loss: 0.1579\n",
      "Epoch 75/250\n",
      "60000/60000 [==============================] - 35s 581us/step - loss: 0.1580\n",
      "Epoch 76/250\n",
      "60000/60000 [==============================] - 35s 578us/step - loss: 0.1575\n",
      "Epoch 77/250\n",
      "60000/60000 [==============================] - 35s 582us/step - loss: 0.1575\n",
      "Epoch 78/250\n",
      "60000/60000 [==============================] - 35s 580us/step - loss: 0.1571\n",
      "Epoch 79/250\n",
      "60000/60000 [==============================] - 35s 580us/step - loss: 0.1569\n",
      "Epoch 80/250\n",
      "60000/60000 [==============================] - 35s 587us/step - loss: 0.1568\n",
      "Epoch 81/250\n",
      "60000/60000 [==============================] - 35s 582us/step - loss: 0.1569\n",
      "Epoch 82/250\n",
      "60000/60000 [==============================] - 35s 580us/step - loss: 0.1561\n",
      "Epoch 83/250\n",
      "60000/60000 [==============================] - 35s 581us/step - loss: 0.1565\n",
      "Epoch 84/250\n",
      "60000/60000 [==============================] - 35s 582us/step - loss: 0.1560\n",
      "Epoch 85/250\n",
      "60000/60000 [==============================] - 35s 582us/step - loss: 0.1560\n",
      "Epoch 86/250\n",
      "60000/60000 [==============================] - 35s 577us/step - loss: 0.1558\n",
      "Epoch 87/250\n",
      "60000/60000 [==============================] - 35s 577us/step - loss: 0.1559\n",
      "Epoch 88/250\n",
      "60000/60000 [==============================] - 35s 585us/step - loss: 0.1553\n",
      "Epoch 89/250\n",
      "60000/60000 [==============================] - 35s 582us/step - loss: 0.1552\n",
      "Epoch 90/250\n",
      "60000/60000 [==============================] - 35s 577us/step - loss: 0.1552\n",
      "Epoch 91/250\n",
      "60000/60000 [==============================] - 35s 587us/step - loss: 0.1550\n",
      "Epoch 92/250\n"
     ]
    },
    {
     "name": "stdout",
     "output_type": "stream",
     "text": [
      "60000/60000 [==============================] - 35s 578us/step - loss: 0.1550\n",
      "Epoch 93/250\n",
      "60000/60000 [==============================] - 35s 575us/step - loss: 0.1549\n",
      "Epoch 94/250\n",
      "60000/60000 [==============================] - 35s 581us/step - loss: 0.1546\n",
      "Epoch 95/250\n",
      "60000/60000 [==============================] - 35s 577us/step - loss: 0.1545\n",
      "Epoch 96/250\n",
      "60000/60000 [==============================] - 35s 579us/step - loss: 0.1544\n",
      "Epoch 97/250\n",
      "60000/60000 [==============================] - 35s 576us/step - loss: 0.1545\n",
      "Epoch 98/250\n",
      "60000/60000 [==============================] - 35s 580us/step - loss: 0.1543\n",
      "Epoch 99/250\n",
      "60000/60000 [==============================] - 35s 576us/step - loss: 0.1540\n",
      "Epoch 100/250\n",
      "60000/60000 [==============================] - 35s 578us/step - loss: 0.1541\n",
      "Epoch 101/250\n",
      "60000/60000 [==============================] - 35s 578us/step - loss: 0.1538\n",
      "Epoch 102/250\n",
      "60000/60000 [==============================] - 35s 576us/step - loss: 0.1538\n",
      "Epoch 103/250\n",
      "60000/60000 [==============================] - 35s 581us/step - loss: 0.1539\n",
      "Epoch 104/250\n",
      "60000/60000 [==============================] - 35s 577us/step - loss: 0.1534\n",
      "Epoch 105/250\n",
      "60000/60000 [==============================] - 35s 588us/step - loss: 0.1534\n",
      "Epoch 106/250\n",
      "60000/60000 [==============================] - 35s 576us/step - loss: 0.1533\n",
      "Epoch 107/250\n",
      "60000/60000 [==============================] - 35s 579us/step - loss: 0.1532\n",
      "Epoch 108/250\n",
      "60000/60000 [==============================] - 35s 577us/step - loss: 0.1530\n",
      "Epoch 109/250\n",
      "60000/60000 [==============================] - 35s 578us/step - loss: 0.1529\n",
      "Epoch 110/250\n",
      "60000/60000 [==============================] - 35s 576us/step - loss: 0.1531\n",
      "Epoch 111/250\n",
      "60000/60000 [==============================] - 34s 575us/step - loss: 0.1529\n",
      "Epoch 112/250\n",
      "60000/60000 [==============================] - 35s 583us/step - loss: 0.1527\n",
      "Epoch 113/250\n",
      "60000/60000 [==============================] - 35s 577us/step - loss: 0.1526\n",
      "Epoch 114/250\n",
      "60000/60000 [==============================] - 35s 576us/step - loss: 0.1525\n",
      "Epoch 115/250\n",
      "60000/60000 [==============================] - 35s 579us/step - loss: 0.1526\n",
      "Epoch 116/250\n",
      "60000/60000 [==============================] - 35s 580us/step - loss: 0.1523\n",
      "Epoch 117/250\n",
      "60000/60000 [==============================] - 35s 576us/step - loss: 0.1523\n",
      "Epoch 118/250\n",
      "60000/60000 [==============================] - 35s 576us/step - loss: 0.1522\n",
      "Epoch 119/250\n",
      "60000/60000 [==============================] - 35s 581us/step - loss: 0.1522\n",
      "Epoch 120/250\n",
      "60000/60000 [==============================] - 35s 580us/step - loss: 0.1520\n",
      "Epoch 121/250\n",
      "60000/60000 [==============================] - 35s 580us/step - loss: 0.1519\n",
      "Epoch 122/250\n",
      "60000/60000 [==============================] - 35s 580us/step - loss: 0.1518\n",
      "Epoch 123/250\n",
      "60000/60000 [==============================] - 35s 579us/step - loss: 0.1517\n",
      "Epoch 124/250\n",
      "60000/60000 [==============================] - 35s 576us/step - loss: 0.1516\n",
      "Epoch 125/250\n",
      "60000/60000 [==============================] - 35s 578us/step - loss: 0.1516\n",
      "Epoch 126/250\n",
      "60000/60000 [==============================] - 35s 583us/step - loss: 0.1514\n",
      "Epoch 127/250\n",
      "60000/60000 [==============================] - 35s 577us/step - loss: 0.1513\n",
      "Epoch 128/250\n",
      "53248/60000 [=========================>....] - ETA: 4s - loss: 0.1512"
     ]
    },
    {
     "ename": "KeyboardInterrupt",
     "evalue": "",
     "output_type": "error",
     "traceback": [
      "\u001b[0;31m---------------------------------------------------------------------------\u001b[0m",
      "\u001b[0;31mKeyboardInterrupt\u001b[0m                         Traceback (most recent call last)",
      "\u001b[0;32m<ipython-input-6-fa0a5290784d>\u001b[0m in \u001b[0;36m<module>\u001b[0;34m()\u001b[0m\n\u001b[1;32m      2\u001b[0m                 \u001b[0mepochs\u001b[0m\u001b[0;34m=\u001b[0m\u001b[0;36m250\u001b[0m\u001b[0;34m,\u001b[0m\u001b[0;34m\u001b[0m\u001b[0m\n\u001b[1;32m      3\u001b[0m                 \u001b[0mbatch_size\u001b[0m\u001b[0;34m=\u001b[0m\u001b[0;36m256\u001b[0m\u001b[0;34m,\u001b[0m\u001b[0;34m\u001b[0m\u001b[0m\n\u001b[0;32m----> 4\u001b[0;31m                 shuffle=True)\n\u001b[0m",
      "\u001b[0;32m~/venvs/py3/lib/python3.6/site-packages/keras/engine/training.py\u001b[0m in \u001b[0;36mfit\u001b[0;34m(self, x, y, batch_size, epochs, verbose, callbacks, validation_split, validation_data, shuffle, class_weight, sample_weight, initial_epoch, steps_per_epoch, validation_steps, **kwargs)\u001b[0m\n\u001b[1;32m   1703\u001b[0m                               \u001b[0minitial_epoch\u001b[0m\u001b[0;34m=\u001b[0m\u001b[0minitial_epoch\u001b[0m\u001b[0;34m,\u001b[0m\u001b[0;34m\u001b[0m\u001b[0m\n\u001b[1;32m   1704\u001b[0m                               \u001b[0msteps_per_epoch\u001b[0m\u001b[0;34m=\u001b[0m\u001b[0msteps_per_epoch\u001b[0m\u001b[0;34m,\u001b[0m\u001b[0;34m\u001b[0m\u001b[0m\n\u001b[0;32m-> 1705\u001b[0;31m                               validation_steps=validation_steps)\n\u001b[0m\u001b[1;32m   1706\u001b[0m \u001b[0;34m\u001b[0m\u001b[0m\n\u001b[1;32m   1707\u001b[0m     def evaluate(self, x=None, y=None,\n",
      "\u001b[0;32m~/venvs/py3/lib/python3.6/site-packages/keras/engine/training.py\u001b[0m in \u001b[0;36m_fit_loop\u001b[0;34m(self, f, ins, out_labels, batch_size, epochs, verbose, callbacks, val_f, val_ins, shuffle, callback_metrics, initial_epoch, steps_per_epoch, validation_steps)\u001b[0m\n\u001b[1;32m   1234\u001b[0m                         \u001b[0mins_batch\u001b[0m\u001b[0;34m[\u001b[0m\u001b[0mi\u001b[0m\u001b[0;34m]\u001b[0m \u001b[0;34m=\u001b[0m \u001b[0mins_batch\u001b[0m\u001b[0;34m[\u001b[0m\u001b[0mi\u001b[0m\u001b[0;34m]\u001b[0m\u001b[0;34m.\u001b[0m\u001b[0mtoarray\u001b[0m\u001b[0;34m(\u001b[0m\u001b[0;34m)\u001b[0m\u001b[0;34m\u001b[0m\u001b[0m\n\u001b[1;32m   1235\u001b[0m \u001b[0;34m\u001b[0m\u001b[0m\n\u001b[0;32m-> 1236\u001b[0;31m                     \u001b[0mouts\u001b[0m \u001b[0;34m=\u001b[0m \u001b[0mf\u001b[0m\u001b[0;34m(\u001b[0m\u001b[0mins_batch\u001b[0m\u001b[0;34m)\u001b[0m\u001b[0;34m\u001b[0m\u001b[0m\n\u001b[0m\u001b[1;32m   1237\u001b[0m                     \u001b[0;32mif\u001b[0m \u001b[0;32mnot\u001b[0m \u001b[0misinstance\u001b[0m\u001b[0;34m(\u001b[0m\u001b[0mouts\u001b[0m\u001b[0;34m,\u001b[0m \u001b[0mlist\u001b[0m\u001b[0;34m)\u001b[0m\u001b[0;34m:\u001b[0m\u001b[0;34m\u001b[0m\u001b[0m\n\u001b[1;32m   1238\u001b[0m                         \u001b[0mouts\u001b[0m \u001b[0;34m=\u001b[0m \u001b[0;34m[\u001b[0m\u001b[0mouts\u001b[0m\u001b[0;34m]\u001b[0m\u001b[0;34m\u001b[0m\u001b[0m\n",
      "\u001b[0;32m~/venvs/py3/lib/python3.6/site-packages/keras/backend/tensorflow_backend.py\u001b[0m in \u001b[0;36m__call__\u001b[0;34m(self, inputs)\u001b[0m\n\u001b[1;32m   2480\u001b[0m         \u001b[0msession\u001b[0m \u001b[0;34m=\u001b[0m \u001b[0mget_session\u001b[0m\u001b[0;34m(\u001b[0m\u001b[0;34m)\u001b[0m\u001b[0;34m\u001b[0m\u001b[0m\n\u001b[1;32m   2481\u001b[0m         updated = session.run(fetches=fetches, feed_dict=feed_dict,\n\u001b[0;32m-> 2482\u001b[0;31m                               **self.session_kwargs)\n\u001b[0m\u001b[1;32m   2483\u001b[0m         \u001b[0;32mreturn\u001b[0m \u001b[0mupdated\u001b[0m\u001b[0;34m[\u001b[0m\u001b[0;34m:\u001b[0m\u001b[0mlen\u001b[0m\u001b[0;34m(\u001b[0m\u001b[0mself\u001b[0m\u001b[0;34m.\u001b[0m\u001b[0moutputs\u001b[0m\u001b[0;34m)\u001b[0m\u001b[0;34m]\u001b[0m\u001b[0;34m\u001b[0m\u001b[0m\n\u001b[1;32m   2484\u001b[0m \u001b[0;34m\u001b[0m\u001b[0m\n",
      "\u001b[0;32m~/venvs/py3/lib/python3.6/site-packages/tensorflow/python/client/session.py\u001b[0m in \u001b[0;36mrun\u001b[0;34m(self, fetches, feed_dict, options, run_metadata)\u001b[0m\n\u001b[1;32m    893\u001b[0m     \u001b[0;32mtry\u001b[0m\u001b[0;34m:\u001b[0m\u001b[0;34m\u001b[0m\u001b[0m\n\u001b[1;32m    894\u001b[0m       result = self._run(None, fetches, feed_dict, options_ptr,\n\u001b[0;32m--> 895\u001b[0;31m                          run_metadata_ptr)\n\u001b[0m\u001b[1;32m    896\u001b[0m       \u001b[0;32mif\u001b[0m \u001b[0mrun_metadata\u001b[0m\u001b[0;34m:\u001b[0m\u001b[0;34m\u001b[0m\u001b[0m\n\u001b[1;32m    897\u001b[0m         \u001b[0mproto_data\u001b[0m \u001b[0;34m=\u001b[0m \u001b[0mtf_session\u001b[0m\u001b[0;34m.\u001b[0m\u001b[0mTF_GetBuffer\u001b[0m\u001b[0;34m(\u001b[0m\u001b[0mrun_metadata_ptr\u001b[0m\u001b[0;34m)\u001b[0m\u001b[0;34m\u001b[0m\u001b[0m\n",
      "\u001b[0;32m~/venvs/py3/lib/python3.6/site-packages/tensorflow/python/client/session.py\u001b[0m in \u001b[0;36m_run\u001b[0;34m(self, handle, fetches, feed_dict, options, run_metadata)\u001b[0m\n\u001b[1;32m   1126\u001b[0m     \u001b[0;32mif\u001b[0m \u001b[0mfinal_fetches\u001b[0m \u001b[0;32mor\u001b[0m \u001b[0mfinal_targets\u001b[0m \u001b[0;32mor\u001b[0m \u001b[0;34m(\u001b[0m\u001b[0mhandle\u001b[0m \u001b[0;32mand\u001b[0m \u001b[0mfeed_dict_tensor\u001b[0m\u001b[0;34m)\u001b[0m\u001b[0;34m:\u001b[0m\u001b[0;34m\u001b[0m\u001b[0m\n\u001b[1;32m   1127\u001b[0m       results = self._do_run(handle, final_targets, final_fetches,\n\u001b[0;32m-> 1128\u001b[0;31m                              feed_dict_tensor, options, run_metadata)\n\u001b[0m\u001b[1;32m   1129\u001b[0m     \u001b[0;32melse\u001b[0m\u001b[0;34m:\u001b[0m\u001b[0;34m\u001b[0m\u001b[0m\n\u001b[1;32m   1130\u001b[0m       \u001b[0mresults\u001b[0m \u001b[0;34m=\u001b[0m \u001b[0;34m[\u001b[0m\u001b[0;34m]\u001b[0m\u001b[0;34m\u001b[0m\u001b[0m\n",
      "\u001b[0;32m~/venvs/py3/lib/python3.6/site-packages/tensorflow/python/client/session.py\u001b[0m in \u001b[0;36m_do_run\u001b[0;34m(self, handle, target_list, fetch_list, feed_dict, options, run_metadata)\u001b[0m\n\u001b[1;32m   1342\u001b[0m     \u001b[0;32mif\u001b[0m \u001b[0mhandle\u001b[0m \u001b[0;32mis\u001b[0m \u001b[0;32mNone\u001b[0m\u001b[0;34m:\u001b[0m\u001b[0;34m\u001b[0m\u001b[0m\n\u001b[1;32m   1343\u001b[0m       return self._do_call(_run_fn, self._session, feeds, fetches, targets,\n\u001b[0;32m-> 1344\u001b[0;31m                            options, run_metadata)\n\u001b[0m\u001b[1;32m   1345\u001b[0m     \u001b[0;32melse\u001b[0m\u001b[0;34m:\u001b[0m\u001b[0;34m\u001b[0m\u001b[0m\n\u001b[1;32m   1346\u001b[0m       \u001b[0;32mreturn\u001b[0m \u001b[0mself\u001b[0m\u001b[0;34m.\u001b[0m\u001b[0m_do_call\u001b[0m\u001b[0;34m(\u001b[0m\u001b[0m_prun_fn\u001b[0m\u001b[0;34m,\u001b[0m \u001b[0mself\u001b[0m\u001b[0;34m.\u001b[0m\u001b[0m_session\u001b[0m\u001b[0;34m,\u001b[0m \u001b[0mhandle\u001b[0m\u001b[0;34m,\u001b[0m \u001b[0mfeeds\u001b[0m\u001b[0;34m,\u001b[0m \u001b[0mfetches\u001b[0m\u001b[0;34m)\u001b[0m\u001b[0;34m\u001b[0m\u001b[0m\n",
      "\u001b[0;32m~/venvs/py3/lib/python3.6/site-packages/tensorflow/python/client/session.py\u001b[0m in \u001b[0;36m_do_call\u001b[0;34m(self, fn, *args)\u001b[0m\n\u001b[1;32m   1348\u001b[0m   \u001b[0;32mdef\u001b[0m \u001b[0m_do_call\u001b[0m\u001b[0;34m(\u001b[0m\u001b[0mself\u001b[0m\u001b[0;34m,\u001b[0m \u001b[0mfn\u001b[0m\u001b[0;34m,\u001b[0m \u001b[0;34m*\u001b[0m\u001b[0margs\u001b[0m\u001b[0;34m)\u001b[0m\u001b[0;34m:\u001b[0m\u001b[0;34m\u001b[0m\u001b[0m\n\u001b[1;32m   1349\u001b[0m     \u001b[0;32mtry\u001b[0m\u001b[0;34m:\u001b[0m\u001b[0;34m\u001b[0m\u001b[0m\n\u001b[0;32m-> 1350\u001b[0;31m       \u001b[0;32mreturn\u001b[0m \u001b[0mfn\u001b[0m\u001b[0;34m(\u001b[0m\u001b[0;34m*\u001b[0m\u001b[0margs\u001b[0m\u001b[0;34m)\u001b[0m\u001b[0;34m\u001b[0m\u001b[0m\n\u001b[0m\u001b[1;32m   1351\u001b[0m     \u001b[0;32mexcept\u001b[0m \u001b[0merrors\u001b[0m\u001b[0;34m.\u001b[0m\u001b[0mOpError\u001b[0m \u001b[0;32mas\u001b[0m \u001b[0me\u001b[0m\u001b[0;34m:\u001b[0m\u001b[0;34m\u001b[0m\u001b[0m\n\u001b[1;32m   1352\u001b[0m       \u001b[0mmessage\u001b[0m \u001b[0;34m=\u001b[0m \u001b[0mcompat\u001b[0m\u001b[0;34m.\u001b[0m\u001b[0mas_text\u001b[0m\u001b[0;34m(\u001b[0m\u001b[0me\u001b[0m\u001b[0;34m.\u001b[0m\u001b[0mmessage\u001b[0m\u001b[0;34m)\u001b[0m\u001b[0;34m\u001b[0m\u001b[0m\n",
      "\u001b[0;32m~/venvs/py3/lib/python3.6/site-packages/tensorflow/python/client/session.py\u001b[0m in \u001b[0;36m_run_fn\u001b[0;34m(session, feed_dict, fetch_list, target_list, options, run_metadata)\u001b[0m\n\u001b[1;32m   1327\u001b[0m           return tf_session.TF_Run(session, options,\n\u001b[1;32m   1328\u001b[0m                                    \u001b[0mfeed_dict\u001b[0m\u001b[0;34m,\u001b[0m \u001b[0mfetch_list\u001b[0m\u001b[0;34m,\u001b[0m \u001b[0mtarget_list\u001b[0m\u001b[0;34m,\u001b[0m\u001b[0;34m\u001b[0m\u001b[0m\n\u001b[0;32m-> 1329\u001b[0;31m                                    status, run_metadata)\n\u001b[0m\u001b[1;32m   1330\u001b[0m \u001b[0;34m\u001b[0m\u001b[0m\n\u001b[1;32m   1331\u001b[0m     \u001b[0;32mdef\u001b[0m \u001b[0m_prun_fn\u001b[0m\u001b[0;34m(\u001b[0m\u001b[0msession\u001b[0m\u001b[0;34m,\u001b[0m \u001b[0mhandle\u001b[0m\u001b[0;34m,\u001b[0m \u001b[0mfeed_dict\u001b[0m\u001b[0;34m,\u001b[0m \u001b[0mfetch_list\u001b[0m\u001b[0;34m)\u001b[0m\u001b[0;34m:\u001b[0m\u001b[0;34m\u001b[0m\u001b[0m\n",
      "\u001b[0;31mKeyboardInterrupt\u001b[0m: "
     ]
    }
   ],
   "source": [
    "autoencoder.fit(X_train, X_train,\n",
    "                epochs=250,\n",
    "                batch_size=256,\n",
    "                shuffle=True)"
   ]
  },
  {
   "cell_type": "code",
   "execution_count": 7,
   "metadata": {},
   "outputs": [
    {
     "data": {
      "image/png": "[encoded data removed]",
      "text/plain": [
       "<matplotlib.figure.Figure at 0x1336b1320>"
      ]
     },
     "metadata": {},
     "output_type": "display_data"
    }
   ],
   "source": [
    "test_sample = choices(X_test, k=10)\n",
    "reconstructions = autoencoder.predict(test_sample)\n",
    "show_side_by_side(test_sample, reconstructions)"
   ]
  },
  {
   "cell_type": "code",
   "execution_count": 156,
   "metadata": {},
   "outputs": [],
   "source": [
    "encoder = autoencoder.bit_encoder"
   ]
  },
  {
   "cell_type": "markdown",
   "metadata": {
    "slideshow": {
     "slide_type": "slide"
    }
   },
   "source": [
    "# Linear search over test images"
   ]
  },
  {
   "cell_type": "code",
   "execution_count": 157,
   "metadata": {
    "slideshow": {
     "slide_type": "fragment"
    }
   },
   "outputs": [],
   "source": [
    "def cosine_sim(v1, v2):\n",
    "    return v1.dot(v2) / (np.linalg.norm(v1) * np.linalg.norm(v2))"
   ]
  },
  {
   "cell_type": "code",
   "execution_count": 158,
   "metadata": {
    "slideshow": {
     "slide_type": "fragment"
    }
   },
   "outputs": [],
   "source": [
    "# define key-value pairs of encoding, image for search\n",
    "kvps = [(code, image) for code, image in zip(encoder.predict(X_train), X_train)]"
   ]
  },
  {
   "cell_type": "code",
   "execution_count": 162,
   "metadata": {
    "slideshow": {
     "slide_type": "fragment"
    }
   },
   "outputs": [
    {
     "data": {
      "image/png": "[encoded data removed]",
      "text/plain": [
       "<matplotlib.figure.Figure at 0x1387e9128>"
      ]
     },
     "metadata": {},
     "output_type": "display_data"
    },
    {
     "name": "stdout",
     "output_type": "stream",
     "text": [
      "CPU times: user 1.64 s, sys: 35.3 ms, total: 1.67 s\n",
      "Wall time: 1.72 s\n"
     ]
    }
   ],
   "source": [
    "%%time\n",
    "import random\n",
    "# pick on image from test set\n",
    "query_img = random.choice(X_train).reshape(1, 784)\n",
    "\n",
    "# retrieve similar images\n",
    "query_code = encoder.predict(query_img)\n",
    "sims = [(cosine_sim(query_code, stored_code), image) for stored_code, image in kvps]\n",
    "# get top 10 images\n",
    "sorted_sims = sorted(sims, reverse=True, key=lambda x: x[0])\n",
    "top_matches = [img for _, img in sorted_sims[:10]]\n",
    "\n",
    "show_side_by_side(query_img, top_matches)"
   ]
  },
  {
   "cell_type": "code",
   "execution_count": 160,
   "metadata": {},
   "outputs": [
    {
     "data": {
      "text/plain": [
       "array([[0., 0., 1., 1., 0., 0., 1., 0., 1., 0., 1., 0., 0., 1., 1., 0.,\n",
       "        1.]], dtype=float32)"
      ]
     },
     "execution_count": 160,
     "metadata": {},
     "output_type": "execute_result"
    }
   ],
   "source": [
    "# the codes are binary aren't they?\n",
    "query_code"
   ]
  },
  {
   "cell_type": "markdown",
   "metadata": {},
   "source": [
    "# Semantic hashing"
   ]
  },
  {
   "cell_type": "code",
   "execution_count": 95,
   "metadata": {},
   "outputs": [],
   "source": [
    "encoder = autoencoder.integer_encoder"
   ]
  },
  {
   "cell_type": "code",
   "execution_count": 138,
   "metadata": {},
   "outputs": [],
   "source": [
    "import collections\n",
    "import statistics\n",
    "\n",
    "# see,\n",
    "# https://en.wikipedia.org/wiki/Hamming_distance#Algorithm_example\n",
    "def hamming_distance(n1, n2):\n",
    "    # this number is made of each bit in either n1 or n2\n",
    "    # but not both\n",
    "    v = n1 ^ n2\n",
    "    d = 0\n",
    "    while v != 0:\n",
    "        # subtracting 1 clears the least bit, a, in v and sets all bits\n",
    "        # before a which are cleared by the logical &\n",
    "        # 2^n = sum(2^m for 0 <= m <= n-1)\n",
    "        d += 1\n",
    "        v &= v - 1\n",
    "    return d\n",
    "\n",
    "\n",
    "class DB:\n",
    "    def __init__(self, encoder, items=None):\n",
    "        self.encoder = encoder\n",
    "        output_dim = self.encoder.output_shape[-1]\n",
    "        self._init_db(items)\n",
    "\n",
    "    def search(self, item, threshold=3, top_n=10):\n",
    "        key = self._make_keys(item)[0]\n",
    "        hits = self._find_hits(key, threshold)\n",
    "        items = self._fetch_items(hits, top_n)\n",
    "        return items\n",
    "\n",
    "    def _find_hits(self, key, threshold):\n",
    "        hits = collections.defaultdict(int)\n",
    "        for other_key in self._db:\n",
    "            dist = hamming_distance(other_key, key)\n",
    "            if dist <= threshold:\n",
    "                hits[other_key] += 2**(threshold-dist)\n",
    "        return hits\n",
    "\n",
    "    def _fetch_items(self, hits, top_n):\n",
    "        items = []\n",
    "        sorted_hits = sorted(hits.items(), key=lambda x: x[1])\n",
    "        for key, score in sorted_hits:\n",
    "            # items from the same bucket are added arbitrarily\n",
    "            for item in self._db[key]:\n",
    "                items.append(item)\n",
    "                if len(items) > top_n:\n",
    "                    return items\n",
    "        return items\n",
    "\n",
    "    def _init_db(self, items):\n",
    "        self._db = collections.defaultdict(list)\n",
    "        keys = self._make_keys(items)\n",
    "        for key, item in zip(keys, items):\n",
    "            self._db[key].append(item)\n",
    "        # defaultdict is convenient when initializing the DB instance\n",
    "        # but dangerous to keep around.\n",
    "        self._db.default_factory = None\n",
    "\n",
    "    def _make_keys(self, items):\n",
    "        codes = self.encoder.predict(items).flatten()\n",
    "        return codes.astype(np.uint32)\n",
    "    \n",
    "    def describe(self):\n",
    "        bucket_sizes = [len(v) for v in self._db.values()]\n",
    "        median_density = statistics.median(bucket_sizes)\n",
    "        mean_density = statistics.mean(bucket_sizes)\n",
    "        min_density = min(bucket_sizes)\n",
    "        max_density = max(bucket_sizes)\n",
    "        print('median density:', median_density)\n",
    "        print('mean density:', mean_density)\n",
    "        print('min density:', min_density)\n",
    "        print('max density:', max_density)"
   ]
  },
  {
   "cell_type": "code",
   "execution_count": 139,
   "metadata": {},
   "outputs": [
    {
     "name": "stdout",
     "output_type": "stream",
     "text": [
      "CPU times: user 19 s, sys: 492 ms, total: 19.5 s\n",
      "Wall time: 6.51 s\n"
     ]
    }
   ],
   "source": [
    "%%time\n",
    "db = DB(encoder, X_train)"
   ]
  },
  {
   "cell_type": "code",
   "execution_count": 140,
   "metadata": {},
   "outputs": [
    {
     "name": "stdout",
     "output_type": "stream",
     "text": [
      "median density: 3.0\n",
      "mean density: 7.177033492822966\n",
      "min density: 1\n",
      "max density: 234\n"
     ]
    }
   ],
   "source": [
    "db.describe()"
   ]
  },
  {
   "cell_type": "code",
   "execution_count": 154,
   "metadata": {
    "scrolled": true
   },
   "outputs": [
    {
     "data": {
      "image/png": "[encoded data removed]",
      "text/plain": [
       "<matplotlib.figure.Figure at 0x1392dc6a0>"
      ]
     },
     "metadata": {},
     "output_type": "display_data"
    },
    {
     "name": "stdout",
     "output_type": "stream",
     "text": [
      "CPU times: user 588 ms, sys: 8.1 ms, total: 596 ms\n",
      "Wall time: 595 ms\n"
     ]
    }
   ],
   "source": [
    "%%time\n",
    "query_img = random.choice(X_train).reshape(1, -1)\n",
    "res = db.search(query_img, threshold=2)\n",
    "show_side_by_side(query_img, res)"
   ]
  },
  {
   "cell_type": "code",
   "execution_count": null,
   "metadata": {},
   "outputs": [],
   "source": []
  }
 ],
 "metadata": {
  "kernelspec": {
   "display_name": "Python 3",
   "language": "python",
   "name": "python3"
  },
  "language_info": {
   "codemirror_mode": {
    "name": "ipython",
    "version": 3
   },
   "file_extension": ".py",
   "mimetype": "text/x-python",
   "name": "python",
   "nbconvert_exporter": "python",
   "pygments_lexer": "ipython3",
   "version": "3.6.2"
  }
 },
 "nbformat": 4,
 "nbformat_minor": 2
}
