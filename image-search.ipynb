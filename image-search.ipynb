{
 "cells": [
  {
   "cell_type": "markdown",
   "metadata": {
    "slideshow": {
     "slide_type": "slide"
    }
   },
   "source": [
    "# Image search with autoencoders"
   ]
  },
  {
   "cell_type": "markdown",
   "metadata": {
    "slideshow": {
     "slide_type": "slide"
    }
   },
   "source": [
    "Autoencoders are an architecture that have a variety of applications from [denoising data](http://www.jmlr.org/papers/volume11/vincent10a/vincent10a.pdf) to [generative models](http://kvfrans.com/variational-autoencoders-explained/).\n",
    "\n",
    "In this post we will look at how to search for similar images given a query image with autoencoders and implement one with [keras](http://keras.io). While we will focus on image searches autoencoders have been shown to work well in other settings as well, for example text-based problems such as retrieving for relevant news articles (see the resource section at the end of this post)."
   ]
  },
  {
   "cell_type": "markdown",
   "metadata": {},
   "source": [
    "# Autoencoders"
   ]
  },
  {
   "cell_type": "markdown",
   "metadata": {},
   "source": [
    "## The gist"
   ]
  },
  {
   "cell_type": "markdown",
   "metadata": {},
   "source": [
    "Autoencoders are simply neural networks that learn the mapping $f:X\\mapsto X$. Does that sound too easy? Are you wondering why we would want to predict the input we are already given?\n",
    "\n",
    "The key idea that makes this mapping useful is that a \"bottleneck\" is placed in the middle of the network which implicitly forces the network to learn a compressed representation of the input data. It is important to note that this is the only output from the network that we are actually interested in.\n",
    "\n",
    "More specifically we think of an autoencoder as two pieces. First there is the _encoder_, the first half of the network that maps $X\\in \\mathbb{R}^{n}$ to some vector in $\\mathbb{R}^{d}$ where $d<n$. Second we have the _decoder_ which maps that vector back to the orignal feature space $\\mathbb{R}^{n}$. The vector output by the encoder is known as the _latent representation_ of the data and is what we will use to search for images by. Again, it is important to understand that at the end of the day all we really care about is the output of the bottleneck.\n",
    "\n",
    "In keras implementing an autoencoder is (almost) as simple as"
   ]
  },
  {
   "cell_type": "markdown",
   "metadata": {},
   "source": [
    "```python\n",
    "import keras\n",
    "model = keras.models.Sequential([\n",
    "    Dense(1000),\n",
    "    Dense(500),\n",
    "    Dense(250),\n",
    "    Dense(64),\n",
    "    Dense(250),\n",
    "    Dense(500),\n",
    "    Dense(1000)\n",
    "])\n",
    "```"
   ]
  },
  {
   "cell_type": "markdown",
   "metadata": {},
   "source": [
    "Note that the output of the middle layer `Dense(250)` is the latent representation, or code."
   ]
  },
  {
   "cell_type": "markdown",
   "metadata": {},
   "source": [
    "## The intuition"
   ]
  },
  {
   "cell_type": "markdown",
   "metadata": {},
   "source": [
    "One nice thing about autoencoders is that the idea described above is very intuitive. Suppose our data $X$ lives in $\\mathbb{R}^{n}$ and one of the hidden layers of $f$ outputs a vector of dimmension $d<n$. Then, it follows that if $f$ reconstructs $X$ well after reducing the input in dimmensionality then that $d$-dimmensional vector must contain a lot of information about the input itself in order to reproduce it."
   ]
  },
  {
   "cell_type": "markdown",
   "metadata": {},
   "source": [
    "# Autoencoders for searching"
   ]
  },
  {
   "cell_type": "markdown",
   "metadata": {},
   "source": [
    "So how do autoencoders apply to searching?\n",
    "\n",
    "Let's consider the use case where we have a set of images $X$, and for a given image, $q$, we would like to retrieve all images in $X$ that are \"similar\" to $q$.\n",
    "\n",
    "One such way to do this with an autoencoder is to keep a list of key-value pairs of each image $x\\in X$ and its encoded representation $\\hat{x}$ (the output of the latent layer when we predict on $x$). Recall these codes are simply vectors, so we can compute similarity scores of $\\hat{q}$ with each $\\hat{x}$, returning the images which scored highest.\n",
    "\n",
    "Now, this method is already more efficient than simply computing the similarity scores over the raw values in $X$ - in the sense that the encoded representations are much smaller in dimmension. Nevertheless, both approaches run in linear time, that is the more images we have in our database, the longer the search will take and the less benefit we see in performance from computing the similarity scores on smaller vectors.\n",
    "\n",
    "It turns out we can still use the codes to perform a faster search in constant time, we just need to build the autoencoder with one slight modification. Instead of mapping the input to vectors of dimmension $d$, we define the encoder as $\\phi:\\mathbb{R}^{n}\\mapsto\\{0,1\\}^{d}$ ($d$-bit binary codes). Once again we keep a list of KVPs, but this time the key is a $d$-bit integer representing the $d$-bit code from the encoder.\n",
    "\n",
    "To complete the search over these KVPs we implement something called [semantic hashing](http://www.cs.utoronto.ca/~rsalakhu/papers/semantic_final.pdf). The idea is simple. For our query image $q$ we now return all images $x\\in X$ such that the hamming distince (number of bits that differ) of $\\phi(q)$ and $\\phi(x)$ is less than some predetermined threshold $t$."
   ]
  },
  {
   "cell_type": "markdown",
   "metadata": {},
   "source": [
    "# A few remarks on building and training the autoencoder"
   ]
  },
  {
   "cell_type": "markdown",
   "metadata": {},
   "source": [
    "## Learning binary codes"
   ]
  },
  {
   "cell_type": "markdown",
   "metadata": {},
   "source": [
    "You may be asking how does one constrain the neural network to learn binary codes. It turns out this is actually rather simple. Several techniques are discussed in [semantic hashing](http://www.cs.utoronto.ca/~rsalakhu/papers/semantic_final.pdf), however the simplest method, described [here](http://www.cs.toronto.edu/~fritz/absps/esann-deep-final.pdf), is to round the outputs of the encoder up to 1 or down to 0 (these will already be values between 0 and 1 since we use a softmax for the activation of this layer) and then compute the gradient update as if the rounding never occurred.\n",
    "\n",
    "We can do this in keras with a custom layer using `keras.backend.round()` and `keras.backend.stop_gradient()` as follows"
   ]
  },
  {
   "cell_type": "markdown",
   "metadata": {},
   "source": [
    "```python\n",
    "import keras\n",
    "from keras.layers import Lambda\n",
    "def binarize(x):\n",
    "    return x + K.stop_gradient(K.round(x) - x)\n",
    "Binarize = Lambda(binarize, output_shape=lambda x: x, name='encoding')\n",
    "```"
   ]
  },
  {
   "cell_type": "markdown",
   "metadata": {},
   "source": [
    "## Choosing the latent dimmension and threshold"
   ]
  },
  {
   "cell_type": "markdown",
   "metadata": {},
   "source": [
    "When choosing the size of the latent dimmension it is useful to consider the following heuristic. As a specific example we'll consider searching over the MNIST digits since that's the data we'll work with below. Specifically we will use the MNIST training set provided by `keras.datasets.mnist` which contains 60,000 images.\n",
    "\n",
    "In the papers referenced at the end of this post the author's found good results when each code mapped to approximately 0.4 items (images in our case). Following this pattern, we will chose $d$ such that $60000/2^{d}\\approx 0.4$, that is $d=17$. The key idea is for $d$ to be large enough for the model to train well, yet small enough that we will actually find images with codes within a given hamming distance of our query code.\n",
    "\n",
    "Choosing the threshold $t$ will depend on the use case. Just keep in mind that the number of images, $n$, you should expect to retrieve for a given query is\n",
    "\n",
    "$$n\\approx\\frac{|X|}{2^{d}}\\sum_{i=0}^{t}{\\binom{d}{i}}$$\n",
    "\n",
    "In our case, choosing $t=3$ this is approximately $0.46*834\\approx 384$ images.\n",
    "\n",
    "(If you're paying attention you will have noticed that we assume the model will distribute the images uniformly accross the $d$-bit space. If the autoencoder reconstructs the input images well then this is reasonable to assume since the autoencoder would have to \"spread out\" the images accross the codes since the final output of the autoencoder is determined by the codes. At least, this holdes for our case where we know that the digits are uniformly distributed in the training set.)"
   ]
  },
  {
   "cell_type": "markdown",
   "metadata": {},
   "source": [
    "## Overfitting on the data"
   ]
  },
  {
   "cell_type": "markdown",
   "metadata": {},
   "source": [
    "Note that in some cases there may not be a need for the autoencoder to generalize to new data if the entire database that will be searched over is available at train time. Thus overfitting to the training data would only improve the search results."
   ]
  },
  {
   "cell_type": "markdown",
   "metadata": {
    "slideshow": {
     "slide_type": "slide"
    }
   },
   "source": [
    "# Implementing the autoencoder"
   ]
  },
  {
   "cell_type": "markdown",
   "metadata": {},
   "source": [
    "Now we'll take a look at implementing an autoencoder in keras. I won't share the full source code, which can be found [here](https://github.com/dantegates/image-search), but I will highlight the main points and look at the results.\n",
    "\n",
    "First we'll import the `AutoEncoder` class that I've defined (which is a sublcass of the `keras.models.Model` and look at its class signature."
   ]
  },
  {
   "cell_type": "code",
   "execution_count": 1,
   "metadata": {},
   "outputs": [
    {
     "name": "stderr",
     "output_type": "stream",
     "text": [
      "/home/dante/venvs/default/lib/python3.5/site-packages/h5py/__init__.py:36: FutureWarning: Conversion of the second argument of issubdtype from `float` to `np.floating` is deprecated. In future, it will be treated as `np.float64 == np.dtype(float).type`.\n",
      "  from ._conv import register_converters as _register_converters\n",
      "Using TensorFlow backend.\n"
     ]
    },
    {
     "name": "stdout",
     "output_type": "stream",
     "text": [
      "Help on function __init__ in module autoencoders:\n",
      "\n",
      "__init__(self, input_dim, latent_dim, intermediate_dims, output_activation)\n",
      "    Initialize an ``AutoEncoder``.\n",
      "    \n",
      "    Args:\n",
      "        input_dim (int): Dimension of the input.\n",
      "        latent_dim (int): Dimension of the \"latent representation\" or code.\n",
      "        intermediate_dims (list): List of `int`s representing the\n",
      "            dimmension of the hidden layers up to, but not including, the\n",
      "            latent layer. See the example below.\n",
      "        output_activation (str or object): The activation used on the final\n",
      "            output of the autoencoder. This gets passed on to the underlying\n",
      "            `keras` implementation.\n",
      "    \n",
      "    Example\n",
      "    -------\n",
      "    The instance\n",
      "    \n",
      "    >>> autoencoder = AutoEncoder(784, 32, [256, 128])\n",
      "    \n",
      "    will have the following architecture ::\n",
      "        \n",
      "        |--------- 784 ---------|       INPUT\n",
      "    \n",
      "           |------ 256 ------|\n",
      "    \n",
      "              |--- 128 ---|\n",
      "    \n",
      "                |-  32 -|               CODE\n",
      "    \n",
      "              |--- 128 ---|\n",
      "    \n",
      "           |------ 256 ------|\n",
      "    \n",
      "        |--------- 784 ---------|       OUTPUT\n",
      "    \n",
      "    \n",
      "    Usage\n",
      "    -----\n",
      "    >>> autoencoder = AutoEncoder(...)\n",
      "    >>> autoencoder.compile(...)\n",
      "    >>> autoencoder.fit(X_train, X_train, ...)\n",
      "    >>> encoder = autoencoder.integer_encoder(X)\n",
      "    ... np.array([[12387],\n",
      "                  [3982909],\n",
      "                  ...])\n",
      "\n"
     ]
    }
   ],
   "source": [
    "from autoencoders import AutoEncoder\n",
    "help(AutoEncoder.__init__)"
   ]
  },
  {
   "cell_type": "markdown",
   "metadata": {},
   "source": [
    "The implementation uses `keras` functional API by looping over the intermediate dimmensions and \"stacking\" `keras.layers.Dense` layers on top of each other. You can read more about the functional API in the [docs](https://keras.io/getting-started/functional-api-guide/). My implementation is similar to the keras [tutorial](https://blog.keras.io/building-autoencoders-in-keras.html) building autoencoders with one improvement. Rather than keeping track of the encoder and decoder as separate objects, I simply name the encoder layer, i.e.\n",
    "\n",
    "```python\n",
    "Binarize = Lambda(binarize, output_shape=lambda x: x, name=ENCODING_LAYER_NAME)\n",
    "```\n",
    "\n",
    "Then we can implement a property that grabs this layer by name and instantiates another `keras.models.Model` when we want to use the encoder after training\n",
    "\n",
    "```python\n",
    "class AutoEncoder(keras.models.Model):\n",
    "    ...\n",
    "    @property\n",
    "    def bit_encoder(self):\n",
    "        encoding = self.get_layer(ENCODING_LAYER_NAME).get_output_at(-1)\n",
    "        return keras.models.Model(inputs=self.input, outputs=encoding)\n",
    "```"
   ]
  },
  {
   "cell_type": "markdown",
   "metadata": {},
   "source": [
    "Now that we've gone over the implementation, let's train the model and look at the results."
   ]
  },
  {
   "cell_type": "code",
   "execution_count": 2,
   "metadata": {
    "scrolled": true,
    "slideshow": {
     "slide_type": "fragment"
    }
   },
   "outputs": [
    {
     "data": {
      "text/plain": [
       "(60000, 784)"
      ]
     },
     "execution_count": 2,
     "metadata": {},
     "output_type": "execute_result"
    }
   ],
   "source": [
    "from utils import *\n",
    "X_train, _ = fetch_data()\n",
    "X_train.shape"
   ]
  },
  {
   "cell_type": "code",
   "execution_count": 3,
   "metadata": {
    "slideshow": {
     "slide_type": "fragment"
    }
   },
   "outputs": [],
   "source": [
    "autoencoder = AutoEncoder(\n",
    "    input_dim=X_train.shape[-1],\n",
    "    latent_dim=17,\n",
    "    intermediate_dims=[1000, 700, 300,  150, 75],\n",
    "    output_activation='sigmoid')"
   ]
  },
  {
   "cell_type": "code",
   "execution_count": 4,
   "metadata": {
    "scrolled": true,
    "slideshow": {
     "slide_type": "fragment"
    }
   },
   "outputs": [
    {
     "name": "stdout",
     "output_type": "stream",
     "text": [
      "_________________________________________________________________\n",
      "Layer (type)                 Output Shape              Param #   \n",
      "=================================================================\n",
      "input_1 (InputLayer)         (None, 784)               0         \n",
      "_________________________________________________________________\n",
      "dense_1 (Dense)              (None, 1000)              785000    \n",
      "_________________________________________________________________\n",
      "dense_2 (Dense)              (None, 700)               700700    \n",
      "_________________________________________________________________\n",
      "dense_3 (Dense)              (None, 300)               210300    \n",
      "_________________________________________________________________\n",
      "dense_4 (Dense)              (None, 150)               45150     \n",
      "_________________________________________________________________\n",
      "dense_5 (Dense)              (None, 75)                11325     \n",
      "_________________________________________________________________\n",
      "dense_6 (Dense)              (None, 17)                1292      \n",
      "_________________________________________________________________\n",
      "encoding (Lambda)            (None, 17)                0         \n",
      "_________________________________________________________________\n",
      "dense_7 (Dense)              (None, 75)                1350      \n",
      "_________________________________________________________________\n",
      "dense_8 (Dense)              (None, 150)               11400     \n",
      "_________________________________________________________________\n",
      "dense_9 (Dense)              (None, 300)               45300     \n",
      "_________________________________________________________________\n",
      "dense_10 (Dense)             (None, 700)               210700    \n",
      "_________________________________________________________________\n",
      "dense_11 (Dense)             (None, 1000)              701000    \n",
      "_________________________________________________________________\n",
      "dense_12 (Dense)             (None, 784)               784784    \n",
      "=================================================================\n",
      "Total params: 3,508,301\n",
      "Trainable params: 3,508,301\n",
      "Non-trainable params: 0\n",
      "_________________________________________________________________\n"
     ]
    }
   ],
   "source": [
    "autoencoder.summary()"
   ]
  },
  {
   "cell_type": "code",
   "execution_count": 5,
   "metadata": {},
   "outputs": [],
   "source": [
    "autoencoder.compile(loss='binary_crossentropy', optimizer='adadelta')"
   ]
  },
  {
   "cell_type": "code",
   "execution_count": 6,
   "metadata": {
    "slideshow": {
     "slide_type": "fragment"
    }
   },
   "outputs": [],
   "source": [
    "hist = autoencoder.fit(X_train, X_train,\n",
    "                       epochs=300,\n",
    "                       batch_size=256,\n",
    "                       verbose=0,  # set verbosity to 0 so this post doesn't get cluttered\n",
    "                                   # we'll look at the loss from the keras history\n",
    "                       shuffle=True)"
   ]
  },
  {
   "cell_type": "code",
   "execution_count": 7,
   "metadata": {},
   "outputs": [
    {
     "data": {
      "text/plain": [
       "[0.30306147510210674,\n",
       " 0.1807299651781718,\n",
       " 0.16143394440015157,\n",
       " 0.15484075319767,\n",
       " 0.15067801921367646,\n",
       " 0.1484384158372879,\n",
       " 0.14725831627051036,\n",
       " 0.14619022978941598,\n",
       " 0.14550789261658986,\n",
       " 0.14499121417204539,\n",
       " 0.14470724340279897,\n",
       " 0.1443879818201065]"
      ]
     },
     "execution_count": 7,
     "metadata": {},
     "output_type": "execute_result"
    }
   ],
   "source": [
    "# just show the loss every 25 epochs\n",
    "hist.history['loss'][::25]"
   ]
  },
  {
   "cell_type": "markdown",
   "metadata": {},
   "source": [
    "## Train results\n",
    "Now that we have trained the autoencoder, lets randomly sample images from the test set and see how well it can reconstruct them."
   ]
  },
  {
   "cell_type": "code",
   "execution_count": 8,
   "metadata": {
    "scrolled": true
   },
   "outputs": [
    {
     "data": {
      "image/png": "[encoded data removed]",
      "text/plain": [
       "<Figure size 1440x288 with 20 Axes>"
      ]
     },
     "metadata": {},
     "output_type": "display_data"
    }
   ],
   "source": [
    "# randomly sample 10 images and look at output\n",
    "test_sample = choices(X_train, k=10)\n",
    "reconstructions = autoencoder.predict(test_sample)\n",
    "show_side_by_side(test_sample, reconstructions)"
   ]
  },
  {
   "cell_type": "markdown",
   "metadata": {
    "slideshow": {
     "slide_type": "slide"
    }
   },
   "source": [
    "## Linear search\n",
    "The model looks like it has trained well. Now we can pull out the encoder from the model and take a look at how it performs using a simple linear search using cosine similarity."
   ]
  },
  {
   "cell_type": "code",
   "execution_count": 9,
   "metadata": {},
   "outputs": [],
   "source": [
    "encoder = autoencoder.bit_encoder"
   ]
  },
  {
   "cell_type": "code",
   "execution_count": 10,
   "metadata": {
    "slideshow": {
     "slide_type": "fragment"
    }
   },
   "outputs": [],
   "source": [
    "# define key-value pairs of encoding, image for search\n",
    "kvps = [(code, image) for code, image in zip(encoder.predict(X_train), X_train)]"
   ]
  },
  {
   "cell_type": "code",
   "execution_count": 11,
   "metadata": {
    "slideshow": {
     "slide_type": "fragment"
    }
   },
   "outputs": [
    {
     "data": {
      "image/png": "[encoded data removed]",
      "text/plain": [
       "<Figure size 1440x288 with 11 Axes>"
      ]
     },
     "metadata": {},
     "output_type": "display_data"
    },
    {
     "name": "stdout",
     "output_type": "stream",
     "text": [
      "CPU times: user 1.31 s, sys: 13.9 ms, total: 1.33 s\n",
      "Wall time: 1.32 s\n"
     ]
    }
   ],
   "source": [
    "%%time\n",
    "import random\n",
    "# pick on image from test set\n",
    "QUERY_IMG = random.choice(X_train).reshape(1, 784)\n",
    "\n",
    "# retrieve similar images\n",
    "query_code = encoder.predict(QUERY_IMG)\n",
    "sims = [(cosine_sim(query_code, stored_code), image) for stored_code, image in kvps]\n",
    "# get top 10 images\n",
    "sorted_sims = sorted(sims, reverse=True, key=lambda x: x[0])\n",
    "top_matches = [img for _, img in sorted_sims[:10]]\n",
    "\n",
    "show_side_by_side(QUERY_IMG, top_matches)"
   ]
  },
  {
   "cell_type": "code",
   "execution_count": 12,
   "metadata": {},
   "outputs": [
    {
     "data": {
      "text/plain": [
       "array([[1., 1., 1., 0., 1., 1., 1., 1., 1., 1., 0., 0., 1., 1., 1., 0.,\n",
       "        1.]], dtype=float32)"
      ]
     },
     "execution_count": 12,
     "metadata": {},
     "output_type": "execute_result"
    }
   ],
   "source": [
    "# the codes are binary aren't they?\n",
    "query_code"
   ]
  },
  {
   "cell_type": "markdown",
   "metadata": {},
   "source": [
    "# Semantic hashing\n",
    "\n",
    "Lastly, we'll take a look at search results given the same query image, but using the \"semantic hash table.\" (implemented in [semantic_hashing.py](https://github.com/dantegates/image-search/blob/master/semantic_hashing.py))"
   ]
  },
  {
   "cell_type": "code",
   "execution_count": 13,
   "metadata": {},
   "outputs": [],
   "source": [
    "from semantic_hashing import DB\n",
    "encoder = autoencoder.integer_encoder  # keras model that converts binary code to integers"
   ]
  },
  {
   "cell_type": "code",
   "execution_count": 14,
   "metadata": {},
   "outputs": [
    {
     "name": "stdout",
     "output_type": "stream",
     "text": [
      "CPU times: user 27.2 s, sys: 823 ms, total: 28 s\n",
      "Wall time: 7.51 s\n"
     ]
    }
   ],
   "source": [
    "%%time\n",
    "db = DB(encoder, X_train)"
   ]
  },
  {
   "cell_type": "code",
   "execution_count": 15,
   "metadata": {},
   "outputs": [
    {
     "name": "stdout",
     "output_type": "stream",
     "text": [
      "median density: 2.0\n",
      "mean density: 4.056795131845842\n",
      "min density: 1\n",
      "max density: 109\n"
     ]
    }
   ],
   "source": [
    "# look at some values that make use feel good about our choice of $d$\n",
    "db.describe()"
   ]
  },
  {
   "cell_type": "code",
   "execution_count": 16,
   "metadata": {
    "scrolled": true
   },
   "outputs": [
    {
     "data": {
      "image/png": "[encoded data removed]",
      "text/plain": [
       "<Figure size 1440x288 with 12 Axes>"
      ]
     },
     "metadata": {},
     "output_type": "display_data"
    },
    {
     "name": "stdout",
     "output_type": "stream",
     "text": [
      "CPU times: user 404 ms, sys: 8.04 ms, total: 412 ms\n",
      "Wall time: 412 ms\n"
     ]
    }
   ],
   "source": [
    "%%time\n",
    "res = db.search(QUERY_IMG, threshold=1)\n",
    "show_side_by_side(QUERY_IMG, res)"
   ]
  },
  {
   "cell_type": "markdown",
   "metadata": {},
   "source": [
    "Note that even on this relatively small data set we already observe much faster lookups without any noticable impact to the search performance."
   ]
  },
  {
   "cell_type": "markdown",
   "metadata": {
    "slideshow": {
     "slide_type": "slide"
    }
   },
   "source": [
    "## Resources\n",
    "\n",
    "For further information see the papers which introduced autoencoders and guided this post are\n",
    "\n",
    "- [Semantic Hashing](http://www.cs.utoronto.ca/~rsalakhu/papers/semantic_final.pdf)\n",
    "- [Using Very Deep Autoencoders for Content-Based Image Retrieval](http://www.cs.toronto.edu/~fritz/absps/esann-deep-final.pdf)."
   ]
  }
 ],
 "metadata": {
  "kernelspec": {
   "display_name": "Python 3",
   "language": "python",
   "name": "python3"
  },
  "language_info": {
   "codemirror_mode": {
    "name": "ipython",
    "version": 3
   },
   "file_extension": ".py",
   "mimetype": "text/x-python",
   "name": "python",
   "nbconvert_exporter": "python",
   "pygments_lexer": "ipython3",
   "version": "3.5.2"
  }
 },
 "nbformat": 4,
 "nbformat_minor": 2
}
